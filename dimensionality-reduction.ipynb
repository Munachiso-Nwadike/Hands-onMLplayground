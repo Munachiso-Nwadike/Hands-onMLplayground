{
 "cells": [
  {
   "cell_type": "code",
   "execution_count": 14,
   "metadata": {},
   "outputs": [
    {
     "name": "stdout",
     "output_type": "stream",
     "text": [
      "[0.81968748 0.18031252]\n",
      "2\n",
      "[0.81968748 0.18031252]\n",
      "[0.81968748 0.18031252]\n",
      "{'data': array([[0, 0, 0, ..., 0, 0, 0],\n",
      "       [0, 0, 0, ..., 0, 0, 0],\n",
      "       [0, 0, 0, ..., 0, 0, 0],\n",
      "       ...,\n",
      "       [0, 0, 0, ..., 0, 0, 0],\n",
      "       [0, 0, 0, ..., 0, 0, 0],\n",
      "       [0, 0, 0, ..., 0, 0, 0]], dtype=uint8), 'DESCR': 'mldata.org dataset: mnist-original', 'target': array([0., 0., 0., ..., 9., 9., 9.]), 'COL_NAMES': ['label', 'data']}\n"
     ]
    }
   ],
   "source": [
    "import numpy as np\n",
    "\n",
    "from sklearn.datasets import fetch_mldata\n",
    "from sklearn.datasets import make_moons\n",
    "from sklearn.decomposition import PCA\n",
    "from sklearn.model_selection import train_test_split\n",
    " \n",
    "\n",
    "##Some data\n",
    "X, y = make_moons()\n",
    "X_train, X_test, y_train, y_test = X[:80], X[20:], y[:80], y[20:]\n",
    "##\n",
    "\n",
    "##PCA\n",
    "#manually using singular value decomposition.  X = U · Σ · VT\n",
    "X_centered = X - X.mean(axis=0)\n",
    "U, s, V = np.linalg.svd(X_centered)\n",
    "c1 = V.T[:, 0]\n",
    "c2 = V.T[:, 1]\n",
    "# X d‐proj = X · Wd\n",
    "W2 = V.T[:, :2]\n",
    "X2D = X_centered.dot(W2)\n",
    "#automatically using sklearn pca (uses svd)\n",
    "pca = PCA(n_components = 2)\n",
    "X2D = pca.fit_transform(X) \n",
    "\n",
    "print(pca.explained_variance_ratio_)\n",
    "\n",
    "#computing the minimum reduction needed to preserve 95% of variance before reduction\n",
    "pca = PCA()\n",
    "pca.fit(X)\n",
    "cumsum = np.cumsum(pca.explained_variance_ratio_)\n",
    "d = np.argmax(cumsum >= 0.95) + 1\n",
    "print(d)\n",
    "pca = PCA(n_components=0.95)\n",
    "pca.fit(X)\n",
    "print(pca.explained_variance_ratio_)\n",
    "#setting n_components to be a float between 0.0 and 1.0, indicating ratio of variance to preserve:\n",
    "pca = PCA(n_components=0.95)\n",
    "X_reduced = pca.fit_transform(X)\n",
    "print(pca.explained_variance_ratio_)\n",
    "##\n",
    "\n",
    "\n",
    "\n",
    "##MNIST\n",
    "mnist = fetch_mldata('MNIST original')\n",
    "print ( mnist )\n",
    "X, y = mnist[\"data\"], mnist[\"target\"]\n",
    "pca = PCA(n_components = 154)\n",
    "X_mnist_reduced = pca.fit_transform(X)\n",
    "X_mnist_recovered = pca.inverse_transform(X_mnist_reduced)"
   ]
  },
  {
   "cell_type": "code",
   "execution_count": null,
   "metadata": {},
   "outputs": [],
   "source": []
  }
 ],
 "metadata": {
  "kernelspec": {
   "display_name": "Python 3",
   "language": "python",
   "name": "python3"
  },
  "language_info": {
   "codemirror_mode": {
    "name": "ipython",
    "version": 3
   },
   "file_extension": ".py",
   "mimetype": "text/x-python",
   "name": "python",
   "nbconvert_exporter": "python",
   "pygments_lexer": "ipython3",
   "version": "3.5.2"
  }
 },
 "nbformat": 4,
 "nbformat_minor": 2
}
